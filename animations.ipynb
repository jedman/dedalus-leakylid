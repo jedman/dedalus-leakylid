{
 "cells": [
  {
   "cell_type": "code",
   "execution_count": 1,
   "metadata": {
    "collapsed": true
   },
   "outputs": [],
   "source": [
    "import numpy as np\n",
    "from matplotlib import animation\n",
    "import h5py\n",
    "import matplotlib.pyplot as plt\n",
    "%matplotlib inline\n",
    "mywriter = animation.ImageMagickFileWriter()\n",
    "plt.rcParams['image.cmap'] = 'RdBu_r'"
   ]
  },
  {
   "cell_type": "code",
   "execution_count": 2,
   "metadata": {
    "collapsed": false
   },
   "outputs": [],
   "source": [
    "folder = 'pulse_1'\n",
    "sim_name = 'k24m1'"
   ]
  },
  {
   "cell_type": "code",
   "execution_count": 11,
   "metadata": {
    "collapsed": false
   },
   "outputs": [],
   "source": [
    "filepath = folder + '/' + sim_name + \"/\" + sim_name + \"_s1/\" + sim_name + \"_s1_p0.h5\"\n",
    "data = h5py.File(filepath, \"r\")\n",
    "te = data['tasks']['total e profile'][:]\n",
    "te_1 = data['tasks']['total e'][:]\n",
    "z = data['scales/z/1.0'][:]\n",
    "t = data['scales']['sim_time'][:]\n",
    "x = data['scales/x/1.0'][:]\n",
    "bb = data['tasks']['buoyancy'][:]\n",
    "uu = data['tasks']['horizontal velocity'][:]\n",
    "ww = data['tasks']['vertical velocity'][:]\n",
    "tropenerg = data['tasks']['tropo energy'][:]\n",
    "te_3d = data['tasks']['total e snap'][:]\n",
    "#data.close()"
   ]
  },
  {
   "cell_type": "code",
   "execution_count": 17,
   "metadata": {
    "collapsed": false
   },
   "outputs": [],
   "source": [
    "filepath = \"k10m1/k10m1_s1/k10m1_s1_p0.h5\"\n",
    "data = h5py.File(filepath, \"r\")\n",
    "te = data['tasks']['total e profile'][:]\n",
    "te_1 = data['tasks']['total e'][:]\n",
    "z = data['scales/z/1.0'][:]\n",
    "t = data['scales']['sim_time'][:]\n",
    "x = data['scales/x/1.0'][:]\n",
    "uu = data['tasks']['horizontal velocity'][:]"
   ]
  },
  {
   "cell_type": "code",
   "execution_count": 22,
   "metadata": {
    "collapsed": false
   },
   "outputs": [
    {
     "data": {
      "text/plain": [
       "(300, 144, 256)"
      ]
     },
     "execution_count": 22,
     "metadata": {},
     "output_type": "execute_result"
    }
   ],
   "source": [
    "uu.shape"
   ]
  },
  {
   "cell_type": "code",
   "execution_count": 4,
   "metadata": {
    "collapsed": false
   },
   "outputs": [
    {
     "data": {
      "text/plain": [
       "<matplotlib.colorbar.Colorbar at 0x11b88b358>"
      ]
     },
     "execution_count": 4,
     "metadata": {},
     "output_type": "execute_result"
    },
    {
     "data": {
      "image/png": "[encoded data removed]",
      "text/plain": [
       "<matplotlib.figure.Figure at 0x11442a128>"
      ]
     },
     "metadata": {},
     "output_type": "display_data"
    }
   ],
   "source": [
    "fig = plt.figure() \n",
    "im = plt.imshow(uu[50,:,:].T, origin = 'lower', interpolation = 'none',\\\n",
    "                extent = [x[0]/1000., x[-1]/1000. ,z[0]/1000., 30000/1000.], aspect = 'auto') \n",
    "#im.set_clim(-0.06,0.06) # buoyancy scale\n",
    "im.set_clim(0,30)\n",
    "plt.xlim(-1000,1000)\n",
    "plt.colorbar()"
   ]
  },
  {
   "cell_type": "code",
   "execution_count": 57,
   "metadata": {
    "collapsed": true
   },
   "outputs": [],
   "source": [
    "def init(): \n",
    "    im.set_data([])\n",
    "    return im\n",
    "\n",
    "def animate(tstep):\n",
    "    datagrid = te_3d[tstep,:,:].T         \n",
    "    im.set_data(datagrid)\n",
    "    return im\n",
    "                  \n",
    "def frame(tstep):\n",
    "    datagrid = bb[tstep,:,:].T        \n",
    "    return stratolid"
   ]
  },
  {
   "cell_type": "code",
   "execution_count": 58,
   "metadata": {
    "collapsed": false
   },
   "outputs": [],
   "source": [
    "anim = animation.FuncAnimation(fig,animate, frames= range(0,103,1), interval = 10, blit = True)"
   ]
  },
  {
   "cell_type": "code",
   "execution_count": 59,
   "metadata": {
    "collapsed": false
   },
   "outputs": [],
   "source": [
    "filename = folder + '_te.gif'\n",
    "anim.save(filename , writer= mywriter) "
   ]
  },
  {
   "cell_type": "code",
   "execution_count": null,
   "metadata": {
    "collapsed": true
   },
   "outputs": [],
   "source": []
  }
 ],
 "metadata": {
  "kernelspec": {
   "display_name": "Python 3",
   "language": "python",
   "name": "python3"
  },
  "language_info": {
   "codemirror_mode": {
    "name": "ipython",
    "version": 3
   },
   "file_extension": ".py",
   "mimetype": "text/x-python",
   "name": "python",
   "nbconvert_exporter": "python",
   "pygments_lexer": "ipython3",
   "version": "3.4.3"
  }
 },
 "nbformat": 4,
 "nbformat_minor": 0
}
